{
 "cells": [
  {
   "cell_type": "markdown",
   "id": "ce7d7128",
   "metadata": {
    "deletable": false,
    "editable": false
   },
   "source": [
    "<div style=\"padding: 15px; border: 5px solid transparent; border-color: transparent; margin-bottom: 20px; border-radius: 4px; color: #3c763d; background-color: #dff0d8; border-color: #d6e9c6; font-weight: bold;\">\n",
    "    <br><br>\n",
    "    <div style=\"font-weight: bold; font-size: 40px\">파이썬으로 배우는 인공지능 알고리즘</div>\n",
    "    <div style=\"font-weight: bold; font-size: 20px\">[03] 형태를 넘어선 데이터의 해석</div>\n",
    "    <hr style=\"width:80%;text-align:left;margin-left:0;border:0.5px solid green\">\n",
    "    <br>\n",
    "    &#x2022; 비정형 데이터의 디지털화 필요성을 이해할 수 있다.<br>\n",
    "    &#x2022; 컴퓨터 비전을 위한 데이터를 탐구한다.<br>\n",
    "    &#x2022; 음성 인식을 위한 데이터를 탐구한다.<br>\n",
    "    &#x2022; 자연어 처리를 위한 데이터를 탐구한다.<br>\n",
    "</div>"
   ]
  },
  {
   "cell_type": "markdown",
   "id": "5442852d-f9ab-416a-9a28-9aa497b81c00",
   "metadata": {
    "deletable": false,
    "editable": false,
    "tags": []
   },
   "source": [
    "<div style=\"padding: 15px; border: 5px solid transparent; border-color: transparent; margin-bottom: 20px; border-radius: 4px; color: #3c763d; border-color: #d6e9c6; font-weight: bold;\">\n",
    "<h2 style='font-weight: bold'>1. 비정형 데이터가 무엇인가요?</h2>\n",
    "</div>"
   ]
  },
  {
   "cell_type": "markdown",
   "id": "a2b947d5-0bb9-42ce-94ef-68bfe3bf1570",
   "metadata": {
    "deletable": false,
    "editable": false
   },
   "source": [
    "### **비정형 데이터의 특징**   \n",
    "앞서 2단원에서 배운 정형 데이터는 각 속성(특징)들이 숫자나, 문자로 표현되어 데이터들을 비교하기 쉽습니다.  \n",
    "이와 다르게 속성(특징)을 쉽게 정의할 수 없는 데이터를 비정형 데이터로 분류합니다.  \n",
    "\n",
    "**정형 데이터**: 데이터를 공통된 속성(특징)에 대한 값으로 저장한 형태로, 주로 2차원 표로 표현할 수 있다.   \n",
    "**비정형 데이터**: 데이터의 속성(특징)을 바로 알 수 없다. \n",
    "\n",
    "\n",
    "예를 들어 고양이와 개를 구분할 때 사용할 수 있는 데이터를 생각해 봅시다.\n",
    "\n",
    "<table>\n",
    "    <tr>\n",
    "        <td><img src=\"https://tmn-bucket-materials-all.s3.ap-northeast-2.amazonaws.com/image/ai/AI-03-01.jpeg\" width=\"500\"></td>\n",
    "        <td><img src=\"https://tmn-bucket-materials-all.s3.ap-northeast-2.amazonaws.com/image/ai/AI-03-02.jpeg\" width=\"500\"></td>\n",
    "    </tr>\n",
    "    <tr>\n",
    "        <th>&lt골격 길이 측정 데이터&gt</th>\n",
    "        <th> &lt생김새를 찍은 사진&gt </th>\n",
    "    </tr>\n",
    "    <tr>\n",
    "        <td><img src=\"https://tmn-bucket-materials-all.s3.ap-northeast-2.amazonaws.com/image/ai/AI-03-03.jpeg\" width=\"500\"></td>\n",
    "        <td><img src=\"https://tmn-bucket-materials-all.s3.ap-northeast-2.amazonaws.com/image/ai/AI-03-04.jpeg\" width=\"500\"></td>\n",
    "    </tr>\n",
    "    <tr>\n",
    "        <th>&lt울음 소리&gt</th>\n",
    "        <th> &lt생김새를 묘사한 문장&gt </th>\n",
    "    </tr>\n",
    "</table>\n",
    "\n",
    "이 중 **<골격 길이 측정 데이터>** 는 각 골격의 종류 별로 측정된 길이를 저장한 것으로 정형 데이터로 분류할 수 있습니다.  \n",
    "위 데이터에서는 골격의 길이나 골격 간의 비율을 계산하여 고양이와 개를 구분할 수 있는 규칙을 찾아낼 수 있습니다.\n",
    "\n",
    "나머지 데이터는 어떤가요?  \n",
    "**<생김새를 찍은 사진>**, **<울음 소리>**, **<생김새를 묘사한 문장>** 을 컴퓨터는 어떻게 분석하여 고양이와 개를 구분할 수 있을까요?   \n",
    "\n",
    "예를 들어 이미지 데이터를 이용할 때 얼굴의 모양, 동공의 모양 등 대상이 가지고 있는 특징을 알아내야 하지만 컴퓨터로서는 얼굴의 위치를 찾는 것부터가 큰 난관입니다.  \n",
    "비정형 데이터로는 고양이와 개를 구분할 수 있는 특징과 규칙을 쉽게 알아낼 수 없습니다.  \n",
    "\n",
    "또한 컴퓨터는 사진, 소리, 문장을 바로 인식할 수 없기 때문에 이 문제를 먼저 풀어야 합니다.  \n",
    "\n",
    "\n"
   ]
  },
  {
   "cell_type": "markdown",
   "id": "80caef79-f0ec-4038-b281-d662af77aff8",
   "metadata": {
    "deletable": false,
    "editable": false
   },
   "source": [
    "### **디지털화(digitizing)란?**\n",
    "\n",
    "**디지털화**: 현실의 데이터를 컴퓨터가 이해할 수 있는 방식으로 변환하는 전처리 방법\n",
    "\n",
    "컴퓨터는 모든 데이터를 숫자의 형태로만 인식할 수 있습니다.  \n",
    "때문에 **데이터를 숫자로 표현**하여 컴퓨터가 인식하게 하는 과정이 필요합니다.\n",
    "\n",
    "여러 비정형 데이터의 요소를 분석해 봅시다.\n",
    "\n",
    "* **빛**은 파장, 밝기 등의 물리량으로 표현할 수 있다.\n",
    "* **소리**는 공기로 전달되는 파동이므로 파형으로 표현할 수 있다.    \n",
    "* **문장**은 의미를 가진 문자가 연결된 것이므로 의미를 가진 가장 작은 말의 단위(형태소)로 나누어 표현할 수 있다.\n",
    "\n",
    "빛과 소리는 물리적인 특성을 **센서**를 통해 측정하고 숫자로 바꾸어 디지털화할 수 있습니다.  \n",
    "사람의 언어는 의미를 가진 말의 단위에 번호를 매기면, 문장을 나열된 숫자들로 바꾸어 디지털화할 수 있습니다.\n",
    "\n"
   ]
  },
  {
   "cell_type": "markdown",
   "id": "91d180f4-aa63-4676-9e42-903cc8cd52ab",
   "metadata": {
    "deletable": false,
    "editable": false,
    "tags": []
   },
   "source": [
    "<div style=\"padding: 15px; border: 5px solid transparent; border-color: transparent; margin-bottom: 20px; border-radius: 4px; color: #3c763d; border-color: #d6e9c6; font-weight: bold;\">\n",
    "<h2 style='font-weight: bold'>2. 컴퓨터 비전의 데이터 탐구</h2>\n",
    "</div>"
   ]
  },
  {
   "cell_type": "markdown",
   "id": "8695aba8-2ab4-4e87-890c-82fa51999f5e",
   "metadata": {
    "deletable": false,
    "editable": false
   },
   "source": [
    "### **컴퓨터 비전은 어떤 기술일까?**  \n",
    "\n",
    "빛을 수집해 주변의 상황을 2차원의 디지털 이미지로 나타내고 이를 활용하는 기술을 **컴퓨터 비전**이라고 합니다.  \n",
    "서로 다른 디지털 이미지를 이용해 어떤 컴퓨터 비전 기술을 만들어 낼 수 있는지 확인해 봅시다. \n",
    "\n",
    "* **컬러 이미지** : 주변의 색상을 나타내는 이미지를 이용해 물체를 인식하고 구분하는데 사용\n",
    "    - 얼굴 사진으로 잠금해제\n",
    "    - 음식 사진으로 종류와 칼로리를 알려주는 어플\n",
    "\n",
    "* **온도 이미지** : 주변 물체의 온도를 측정하거나 빛이 적은 곳에서 생물체를 감지하는데 사용 \n",
    "    - 열화상 카메라와 체온 측정\n",
    "    - 야간용 야생동물 감지카메라\n",
    "\n",
    "* **거리 이미지** : 3D 공간을 인식하는데 사용\n",
    "    - 라이다 센서와 3D 공간 인식\n",
    "    - 레이더 센서와 주변 물체 인식"
   ]
  },
  {
   "cell_type": "markdown",
   "id": "2d6fb297-dd45-43fd-be88-902a962d3261",
   "metadata": {
    "deletable": false,
    "editable": false
   },
   "source": [
    "<div style=\"padding: 15px; border: 5px solid transparent; border-color: transparent; margin-bottom: 20px; border-radius: 4px; color: #8a6d3b;  border-color: #faebcc; font-weight: bold;\">\n",
    "    <div style=\"font-weight: bold; font-size: 20px\">✏️ [문제1]</div>\n",
    "    <br>\n",
    "내가 분석하고 싶은 이미지 데이터의 종류와 알아내고 싶은 것을 적어봅시다.\n",
    "</div>"
   ]
  },
  {
   "cell_type": "raw",
   "id": "ed4cbb01-2b36-45de-8388-bbe55befc6fb",
   "metadata": {},
   "source": [
    " 👉 \n",
    " 👉 "
   ]
  },
  {
   "cell_type": "markdown",
   "id": "0e2c41a7-03cc-4512-9871-a4aa2f8595f0",
   "metadata": {
    "deletable": false,
    "editable": false
   },
   "source": [
    "### **디지털 이미지 수집하기**  \n",
    "\n",
    "디지털 이미지란 빛을 디지털화한 것으로 빛의 세기나, 쏘아준 빛이 되돌아 온 시간 등을 측정하여 2차원의 숫자 데이터로 나타낸 것입니다.  \n",
    "\n",
    "데이터를 수집해주는 여러가지 센서를 알아봅시다. \n",
    "* **이미지 센서**: 카메라 안의 이미지 센서는 가시광선의 세기를 숫자로 바꾸어 준다.\n",
    "* **적외선 온도 센서**: 물체 스스로 내는 적외선의 세기를 온도로 나타내 준다.  \n",
    "* **라이다(LiDAR) 센서**: 레이저 빔을 쏘아 물체에 반사되어 돌아온 시간을 거리로 나타내 준다. \n",
    "* **레이다(Radar) 센서**: 특정 주파수의 전파를 쏘아 물체에 반사되어 돌아온 전파를 분석해 물체의 거리, 속도 등을 알려준다.\n"
   ]
  },
  {
   "cell_type": "markdown",
   "id": "d3cd42d6-a09f-4c23-8633-3ff0372a6906",
   "metadata": {
    "deletable": false,
    "editable": false
   },
   "source": [
    "### **디지털 이미지 표현하기**\n",
    "\n",
    "디지털 이미지의 기본 단위를 화소(pixel)라고 합니다.   \n",
    "각 화소는 색상, 온도, 거리를 나타내는 숫자인 화소값(pixel value)을 가지고 있습니다. \n",
    "\n",
    "<table>\n",
    "    <tr>\n",
    "        <td><img src=\"https://tmn-bucket-materials-all.s3.ap-northeast-2.amazonaws.com/image/ai/AI-03-05.jpeg\" width=\"500\"></td>\n",
    "    </tr>\n",
    "    <tr>\n",
    "        <th>디지털 이미지의 최소 단위인 화소</th>\n",
    "    </tr>\n",
    "</table>\n",
    "\n",
    "아래 코드를 실행하면 코로나19 환자의 폐 X-ray 이미지가 출력됩니다.  \n",
    "가로방향 15화소, 세로방향 15화소 크기의 초록박스 속 화소값들을 이미지의 오른쪽 편에서 확인할 수 있습니다.  \n",
    "\n",
    "슬라이더를 움직여 밝고 어두움에 따라 화소값이 어떻게 다른지 살펴봅시다."
   ]
  },
  {
   "cell_type": "code",
   "execution_count": null,
   "id": "1ff52536-0bed-4701-8551-59110fe705d2",
   "metadata": {
    "error_code": "from CodleAI import AIProject2\nAIProject2()",
    "tags": []
   },
   "outputs": [],
   "source": [
    "from CodleAI import AIProject2\n",
    "AIProject2()"
   ]
  },
  {
   "cell_type": "markdown",
   "id": "f8dc286e-d8ba-4dc9-9c23-ad66e42154ba",
   "metadata": {
    "deletable": false,
    "editable": false
   },
   "source": [
    "<div style=\"padding: 15px; border: 5px solid transparent; border-color: transparent; margin-bottom: 20px; border-radius: 4px; color: #8a6d3b;  border-color: #faebcc; font-weight: bold;\">\n",
    "    <div style=\"font-weight: bold; font-size: 20px\">✏️ [문제2]</div>\n",
    "    <br>\n",
    "이미지의 색상이 점점 밝아질수록 화소값이 어떻게 변하는지 적어봅시다.\n",
    "</div>"
   ]
  },
  {
   "cell_type": "raw",
   "id": "350aa6f0-4243-4b9d-89b0-d486d5f5abee",
   "metadata": {},
   "source": [
    " 👉 \n",
    " 👉 "
   ]
  },
  {
   "cell_type": "markdown",
   "id": "86214728-08f0-4f31-813b-269d404a649c",
   "metadata": {
    "deletable": false,
    "editable": false
   },
   "source": [
    "<div style=\"padding: 15px; border: 5px solid transparent; border-color: transparent; margin-bottom: 20px; border-radius: 4px; color: #8a6d3b;  border-color: #faebcc; font-weight: bold;\">\n",
    "    <div style=\"font-weight: bold; font-size: 20px\">✏️ [문제3]</div>\n",
    "    <br>\n",
    "컬러 이미지의 화소값은 어떻게 나타내는지 알아봅시다.\n",
    "</div>"
   ]
  },
  {
   "cell_type": "raw",
   "id": "b020283c-33a4-4b3f-adea-1e2a99975d17",
   "metadata": {},
   "source": [
    " 👉 \n",
    " 👉 "
   ]
  },
  {
   "cell_type": "markdown",
   "id": "80975fcd-16f3-4087-9de8-662e91f900aa",
   "metadata": {
    "deletable": false,
    "editable": false,
    "tags": []
   },
   "source": [
    "<div style=\"padding: 15px; border: 5px solid transparent; border-color: transparent; margin-bottom: 20px; border-radius: 4px; color: #3c763d; border-color: #d6e9c6; font-weight: bold;\">\n",
    "<h2 style='font-weight: bold'>3. 음성 인식의 데이터 탐구</h2>\n",
    "</div>"
   ]
  },
  {
   "cell_type": "markdown",
   "id": "73fd2f5f-5ed0-4d40-8d5a-d05338035c24",
   "metadata": {
    "deletable": false,
    "editable": false,
    "tags": []
   },
   "source": [
    "### **음성 인식은 어떤 기술일까?**  \n",
    "\n",
    "사람이 어떤 말을 하고 있는지 소리를 언어로 바꾸어주는 기술을 **음성 인식**이라고 합니다.  \n",
    "음성 인식은 소리를 수집하여 1차원의 디지털 데이터로 나타내고 이를 활용하는 연구의 한 분야입니다.  \n",
    "오늘날 음성 인식은 매우 발전되었고 우리 주변의 여러 스마트 디바이스에서 사용되고 있습니다.  \n",
    "음성 인식 외에도 음성을 분석하여 더 다양한 일을 할 수 있습니다.  \n",
    "\n",
    "* **음성 분석의 예시**  \n",
    "- 하나의 음성 데이터에서 여러 사람의 목소리를 구분    \n",
    "- 울음소리 혹은 목소리로 사람의 감정을 분석       \n",
    "- 사람의 나이대, 성별 등을 예측  "
   ]
  },
  {
   "cell_type": "markdown",
   "id": "da9706a9-cf43-468f-8806-05ac177967e9",
   "metadata": {
    "deletable": false,
    "editable": false
   },
   "source": [
    "<div style=\"padding: 15px; border: 5px solid transparent; border-color: transparent; margin-bottom: 20px; border-radius: 4px; color: #31708f; border-color: #bce8f1;\">\n",
    "    <div style=\"font-weight: bold; font-size: 20px\">🚄 더 해보기</div>\n",
    "음성번역 아이콘을 눌러 음성 인식이 잘 되는지 확인해 봅시다.<br><br>\n",
    "<a href=\"https://translate.google.co.kr/?hl=ko&tab=TT&sl=ko&tl=en&op=translate\"><button style=\"width:200px; height:50px\">구글 번역 바로가기</button></a>\n",
    "</div>"
   ]
  },
  {
   "cell_type": "markdown",
   "id": "cf4b8185-a42b-4134-ba57-cc81c0b8c3e9",
   "metadata": {
    "deletable": false,
    "editable": false
   },
   "source": [
    "<div style=\"padding: 15px; border: 5px solid transparent; border-color: transparent; margin-bottom: 20px; border-radius: 4px; color: #8a6d3b;  border-color: #faebcc; font-weight: bold;\">\n",
    "    <div style=\"font-weight: bold; font-size: 20px\">✏️ [문제4]</div>\n",
    "    <br>\n",
    "음성 데이터를 분석해 알아내고 싶은 것을 적어봅시다.\n",
    "</div>"
   ]
  },
  {
   "cell_type": "raw",
   "id": "d3ce28a8-9190-4bb0-b9c1-122eee52671e",
   "metadata": {},
   "source": [
    " 👉 \n",
    " 👉 "
   ]
  },
  {
   "cell_type": "markdown",
   "id": "b354756e-da1b-4558-938e-1b480536344a",
   "metadata": {
    "deletable": false,
    "editable": false
   },
   "source": [
    "### **디지털 오디오 수집하기**  \n",
    "디지털 오디오란 소리를 디지털화한 것으로 마이크를 통해 음파를 1차원의 숫자 데이터로 나타낸 것입니다.  \n",
    "\n",
    "다양한 종류의 마이크가 있지만, 그 중 다이나믹 마이크는 물리 시간에 배운 전자기 유도를 이용합니다.  \n",
    "음파로 인해 진동판이 움직이면 연결된 코일이 자석안에서 움직여 회로의 전류가 변화하는 원리입니다.   \n",
    "전기 신호를 일정한 시간마다 숫자로 바꾸어주면 디지털 오디오가 됩니다. \n",
    "\n",
    "<table>\n",
    "    <tr>\n",
    "        <td><img src=\"https://tmn-bucket-materials-all.s3.ap-northeast-2.amazonaws.com/image/ai/AI-03-06.gif\" width=\"500\" autoplay loop></td>\n",
    "    </tr>\n",
    "    <tr>\n",
    "        <th>음파를 전기 신호로 바꾸어 주는 마이크</th>\n",
    "    </tr>\n",
    "</table>\n",
    "\n",
    "\n"
   ]
  },
  {
   "cell_type": "markdown",
   "id": "fc753aef-df1d-43ac-87f9-587704ae8a3a",
   "metadata": {
    "deletable": false,
    "editable": false
   },
   "source": [
    "### **디지털 오디오 표현하기**\n",
    "\n",
    "디지털 오디오는 시간순으로 나열된 1차원의 숫자 데이터입니다.  \n",
    "각 숫자를 샘플이라고 하며, 각 샘플의 값과 1초에 몇 개의 샘플을 측정했는지 알면 소리를 재현할 수 있습니다!\n",
    "\n",
    "다음 코드를 실행하면 디지털 오디오 데이터를 그래프로 나타낼 수 있습니다.  \n",
    "플레이 버튼을 누르면 빨간 선을 통해 소리와 음파를 함께 확인할 수 있습니다.  \n",
    "소리의 높낮이나 크기에 따라 오디오 데이터의 값이 어떻게 변하는지 살펴보세요. "
   ]
  },
  {
   "cell_type": "code",
   "execution_count": null,
   "id": "e5f9a320-b7c1-43a5-8859-5c7334f4ed0a",
   "metadata": {},
   "outputs": [],
   "source": [
    "# 필요 라이브러리 설치\n",
    "!pip install librosa -q\n",
    "!pip install panel -q\n",
    "!pip install holoviews -q"
   ]
  },
  {
   "cell_type": "code",
   "execution_count": null,
   "id": "e1591e99-23d7-4921-8dc3-4a21460e0a3a",
   "metadata": {
    "error_code": "# 필요 라이브러리 설치\n!pip install librosa -q\n!pip install panel -q\n!pip install holoviews -q\n\nimport librosa\nimport warnings\nwarnings.filterwarnings(\"ignore\")\n\nfrom IPython.display import Audio\nfrom IPython.core.display import display\nimport matplotlib.pyplot as plt\nimport numpy as np\n\nimport panel as pn\nimport holoviews as hv\npn.extension()\nhv.notebook_extension(\"bokeh\", logo=False)\nfrom holoviews.streams import Params \n\nwav, sr = librosa.load('기차.mp3')\nprint('1초에 샘플링한 수: ', sr)\nprint('샘플의 값: ', wav)\naudio = pn.pane.Audio(np.int16(wav * 32767), sample_rate=sr, name='Audio', throttle=10)\nx = np.linspace(0, len(wav)/sr, len(wav))\nline_plot = hv.Curve((x, wav)).opts(width=800)\ndef interactive_play(t):\n    return hv.VLine(t).opts(color='red')\nstream = Params(parameters=[audio.param.time], rename={'time': 't'})\ndmap_time = hv.DynamicMap(interactive_play, streams=[stream])\npn.Column(line_plot * dmap_time, audio)",
    "tags": []
   },
   "outputs": [],
   "source": [
    "import librosa\n",
    "import warnings\n",
    "warnings.filterwarnings(\"ignore\")\n",
    "\n",
    "from IPython.display import Audio\n",
    "from IPython.core.display import display\n",
    "import matplotlib.pyplot as plt\n",
    "import numpy as np\n",
    "\n",
    "import panel as pn\n",
    "import holoviews as hv\n",
    "pn.extension()\n",
    "hv.notebook_extension(\"bokeh\", logo=False)\n",
    "from holoviews.streams import Params \n",
    "\n",
    "wav, sr = librosa.load('기차.mp3')\n",
    "print('1초에 샘플링한 수: ', sr)\n",
    "print('샘플의 값: ', wav)\n",
    "audio = pn.pane.Audio(np.int16(wav * 32767), sample_rate=sr, name='Audio', throttle=10)\n",
    "x = np.linspace(0, len(wav)/sr, len(wav))\n",
    "line_plot = hv.Curve((x, wav)).opts(width=800)\n",
    "def interactive_play(t):\n",
    "    return hv.VLine(t).opts(color='red')\n",
    "stream = Params(parameters=[audio.param.time], rename={'time': 't'})\n",
    "dmap_time = hv.DynamicMap(interactive_play, streams=[stream])\n",
    "pn.Column(line_plot * dmap_time, audio)"
   ]
  },
  {
   "cell_type": "markdown",
   "id": "c3d9363e-ed60-4d8d-9fd3-209ae6e2520a",
   "metadata": {
    "deletable": false,
    "editable": false
   },
   "source": [
    "<div style=\"padding: 15px; border: 5px solid transparent; border-color: transparent; margin-bottom: 20px; border-radius: 4px; color: #8a6d3b;  border-color: #faebcc; font-weight: bold;\">\n",
    "    <div style=\"font-weight: bold; font-size: 20px\">✏️ [문제5]</div>\n",
    "    <br>\n",
    "소리가 클수록 오디오 데이터의 값이 어떻게 변하는지 적어봅시다.\n",
    "</div>"
   ]
  },
  {
   "cell_type": "raw",
   "id": "4c6d6243-d845-4d11-a361-d48a890cb4a7",
   "metadata": {},
   "source": [
    " 👉 \n",
    " 👉 "
   ]
  },
  {
   "cell_type": "markdown",
   "id": "1d2a4b39-0bbc-4646-8eb0-97e07cd6fff3",
   "metadata": {
    "deletable": false,
    "editable": false,
    "tags": []
   },
   "source": [
    "<div style=\"padding: 15px; border: 5px solid transparent; border-color: transparent; margin-bottom: 20px; border-radius: 4px; color: #3c763d; border-color: #d6e9c6; font-weight: bold;\">\n",
    "<h2 style='font-weight: bold'>4. 자연어 처리의 데이터 탐구</h2>\n",
    "</div>"
   ]
  },
  {
   "cell_type": "markdown",
   "id": "dd2986a5-eb35-41ab-924d-c310d40e7c66",
   "metadata": {
    "deletable": false,
    "editable": false,
    "tags": []
   },
   "source": []
  },
  {
   "cell_type": "markdown",
   "id": "76165384-c043-4396-8b13-fabccde21106",
   "metadata": {
    "deletable": false,
    "editable": false
   },
   "source": [
    "### **자연어 처리는 어떤 기술일까?**  \n",
    "\n",
    "자연어는 한국어와 같이 사람들이 사용하는 언어를 말합니다.  \n",
    "사람의 언어를 이해하여 의미나 맥락을 파악하는 기술을 **자연어 처리**라고 합니다.  \n",
    "\n",
    "자연어를 이해하기 위해서는 단계적인 분석이 필요합니다.  \n",
    "분석 과정을 차례대로 알아보고 각각의 분석 결과를 이용해 어떤 기술을 만들어 낼 수 있는지 알아봅시다. \n",
    "\n",
    "* **형태소 분석**: 문장을 명사/동사/조사/어미 등 의미를 나타내는 단위(형태소)로 나누는 과정\n",
    "    - 뉴스의 주제나 핵심 단어를 추출하여 카테고리를 자동 분류  \n",
    "    - AI 면접 중 지원자가 사용하는 단어를 추출하여 성향을 파악\n",
    "\n",
    "* **구문 분석**: 주어/동사/목적어 등으로 나누어 문장 구조를 분석하는 과정  \n",
    "    - 문법 구조에 맞추어 서로 다른 언어로 번역 (동음이의어는 처리하지 못함)  \n",
    "    - 함께 사용되는 주어와 동사를 분석하여 단어들의 관련성을 파악 \n",
    "\n",
    "* **의미 분석**: 문장의 뜻을 파악하는 과정\n",
    "    - 긴 문서를 짧은 문장으로 요약  \n",
    "    - 사용자의 질문에 답하는 챗봇을 개발\n",
    "\n",
    "* **담화 분석**: 화자의 의도를 파악하는 과정\n",
    "    - 사용자와 대화를 주고 받으며 문맥을 통해 화자의 의도를 구분하여 답하는 챗봇을 개발  \n",
    "    - 같은 의미를 가진 문장을 대화하는 상대나, 분위기 등에 따라 변환"
   ]
  },
  {
   "cell_type": "markdown",
   "id": "df8698e7-3a85-4e45-a5e6-e17ba392829e",
   "metadata": {
    "deletable": false,
    "editable": false
   },
   "source": [
    "<div style=\"padding: 15px; border: 5px solid transparent; border-color: transparent; margin-bottom: 20px; border-radius: 4px; color: #8a6d3b;  border-color: #faebcc; font-weight: bold;\">\n",
    "    <div style=\"font-weight: bold; font-size: 20px\">✏️ [문제6]</div>\n",
    "    <br>\n",
    "다음은 같은 문장을 다르게 번역한 결과입니다.<br>\n",
    "각 번역을 위해서는 자연어에 대한 어느 단계까지의 분석이 필요한지 적어봅시다.\n",
    "\n",
    "<table>\n",
    "    <tr>\n",
    "        <td><img src=\"https://tmn-bucket-materials-all.s3.ap-northeast-2.amazonaws.com/image/ai/AI-03-07.png\" width=\"500\"> </td>\n",
    "    </tr>\n",
    "    <tr>\n",
    "        <th>단순히 번역한 결과</th>\n",
    "    </tr>\n",
    "    <tr>\n",
    "        <td><img src=\"https://tmn-bucket-materials-all.s3.ap-northeast-2.amazonaws.com/image/ai/AI-03-08.png\" width=\"500\"> </td>\n",
    "    </tr>\n",
    "    <tr>\n",
    "        <th>언어의 분위기를 지정해서 번역한 결과</th>\n",
    "    </tr>\n",
    "</table>\n",
    "</div>"
   ]
  },
  {
   "cell_type": "raw",
   "id": "faf90a81-cd66-429e-b8dd-7b06d6215546",
   "metadata": {},
   "source": [
    " 👉 \n",
    " 👉 "
   ]
  },
  {
   "cell_type": "markdown",
   "id": "16ac4262-68a2-4ccc-ad03-26734c54645b",
   "metadata": {
    "deletable": false,
    "editable": false
   },
   "source": [
    "### **자연어 데이터 수집하기**\n",
    "\n",
    "세상의 단어를 데이터화하기 위해서는 많은 문서들을 분석하여 자연어를 추출해야 하고, 이것을 **말뭉치**(corpus)라고 부릅니다.  \n",
    "사용한 문서에 따라 다른 말뭉치가 만들어 집니다. \n",
    "\n",
    "국립국어원에서 제공하는 말뭉치를 확인해보고, 각각의 말뭉치를 만들때 사용한 문서와 그 안의 문자들을 비교해 보세요.  \n",
    "\n",
    "<a href=\"https://corpus.korean.go.kr/request/reausetMain.do\"><button style=\"width:200px; height:50px\">모두의 말뭉치 바로가기</button></a>\n",
    "\n",
    "<table>\n",
    "    <tr>\n",
    "        <td><img src=\"https://tmn-bucket-materials-all.s3.ap-northeast-2.amazonaws.com/image/ai/AI-03-10.PNG\" width=\"1000\"> </td>\n",
    "    </tr>\n",
    "    <tr>\n",
    "        <th>모두의 말뭉치</th>\n",
    "    </tr>\n",
    "</table>"
   ]
  },
  {
   "cell_type": "markdown",
   "id": "1f5ed10d-defe-442a-88a6-c85d66186f99",
   "metadata": {
    "deletable": false,
    "editable": false
   },
   "source": [
    "### **자연어 데이터 표현하기**\n",
    "말뭉치 속 자연어를 의미에 따라 작은 단위로 나눈 것을 **토큰**(token)이라고 합니다.  \n",
    " \n",
    "토큰 안의 문자들은 각각 길이도 다르고 언어도 다를 수 있습니다.  \n",
    "컴퓨터가 이용할 수 있도록 모두 같은 길이의 1차원 숫자 데이터로 바꾸어 주는 것을 **벡터화**(vectorizing)라고 합니다.  \n",
    "\n",
    "벡터화란 다차원의 공간(space)에 점을 찍는 것과 같습니다.    \n",
    "최근에는 자연어 처리에 용의하도록 단어의 의미를 기준으로 벡터화하는 방식이 연구되고 있습니다.  \n",
    "이를 **임베딩**(embedding)이라고도 합니다.  \n",
    "\n",
    "다음 그림은 'apple'과 관련된 단어들이 임베딩된 결과를 3차원에 투영한 것입니다.  \n",
    "가까이에 벡터화된 단어들이 실제로도 관련성이 높은 것을 확인할 수 있습니다.\n",
    "\n",
    "<a href=\"https://projector.tensorflow.org/\"><button style=\"width:200px; height:50px\">단어 임베딩 바로가기</button></a>\n",
    "\n",
    "<table>\n",
    "    <tr>\n",
    "        <td><img src=\"https://tmn-bucket-materials-all.s3.ap-northeast-2.amazonaws.com/image/ai/AI-03-09.PNG\" width=\"1000\"> </td>\n",
    "    </tr>\n",
    "    <tr>\n",
    "        <th>단어 임베딩 결과</th>\n",
    "    </tr>\n",
    "</table>"
   ]
  },
  {
   "cell_type": "markdown",
   "id": "36594729-4698-44f0-8727-1c84ffb0e8dd",
   "metadata": {
    "deletable": false,
    "editable": false
   },
   "source": [
    "다음 코드를 실행하면 자연어 문장을 벡터화할 수 있습니다.  \n",
    "예시 문장의 토큰화, 벡터화 결과를 확인해보고 문장을 바꾸어 결과를 확인해 보세요. "
   ]
  },
  {
   "cell_type": "code",
   "execution_count": null,
   "id": "2e668cfd-6102-49c6-8960-05ff562cdfb1",
   "metadata": {
    "error_code": "!pip install --upgrade pip -q\n!pip install soynlp -q\n\nfrom soynlp.tokenizer import LTokenizer\nimport pickle\n\nwith open('words.pickle', 'rb') as fr:\n    words = pickle.load(fr)\n\ncohesion_score = {word:score.cohesion_forward for word, score in words.items()}\ntokenizer = LTokenizer(scores=cohesion_score)",
    "tags": []
   },
   "outputs": [],
   "source": [
    "!pip install --upgrade pip -q\n",
    "!pip install soynlp -q\n",
    "\n",
    "from soynlp.tokenizer import LTokenizer\n",
    "import pickle\n",
    "\n",
    "with open('words.pickle', 'rb') as fr:\n",
    "    words = pickle.load(fr)\n",
    "\n",
    "cohesion_score = {word:score.cohesion_forward for word, score in words.items()}\n",
    "tokenizer = LTokenizer(scores=cohesion_score)"
   ]
  },
  {
   "cell_type": "code",
   "execution_count": null,
   "id": "355afb92-6db2-4cd8-8786-e42ee9b22468",
   "metadata": {
    "error_code": "sentence = '애플은 매우 맛있다'\ntoken_vector = tokenizer.tokenize(sentence)\nprint('자연어:\\n', sentence)\nprint('\\n1. 토큰화:\\n', token_vector)\nprint('\\n2. 벡터화:')\nfor t in token_vector:\n    print(t, [i for i in words[t]])",
    "tags": []
   },
   "outputs": [],
   "source": [
    "sentence = '애플은 매우 맛있다'\n",
    "token_vector = tokenizer.tokenize(sentence)\n",
    "print('자연어:\\n', sentence)\n",
    "print('\\n1. 토큰화:\\n', token_vector)\n",
    "print('\\n2. 벡터화:')\n",
    "for t in token_vector:\n",
    "    print(t, [i for i in words[t]])"
   ]
  },
  {
   "cell_type": "code",
   "execution_count": null,
   "id": "e0ed0b8f-a82e-47f0-a51c-672292d998dc",
   "metadata": {
    "error_code": "sentence = '오늘은 엄청난 사건이 일어났다'\ntoken_vector = tokenizer.tokenize(sentence)\nprint('자연어:\\n', sentence)\nprint('\\n1. 토큰화:\\n', token_vector)\nprint('\\n2. 벡터화:')\nfor t in token_vector:\n    print(t, [i for i in words[t]])",
    "tags": []
   },
   "outputs": [],
   "source": [
    "sentence = '오늘은 엄청난 사건이 일어났다'\n",
    "token_vector = tokenizer.tokenize(sentence)\n",
    "print('자연어:\\n', sentence)\n",
    "print('\\n1. 토큰화:\\n', token_vector)\n",
    "print('\\n2. 벡터화:')\n",
    "for t in token_vector:\n",
    "    print(t, [i for i in words[t]])"
   ]
  }
 ],
 "metadata": {
  "kernelspec": {
   "display_name": "Python 3 (ipykernel)",
   "language": "python",
   "name": "python3"
  },
  "language_info": {
   "codemirror_mode": {
    "name": "ipython",
    "version": 3
   },
   "file_extension": ".py",
   "mimetype": "text/x-python",
   "name": "python",
   "nbconvert_exporter": "python",
   "pygments_lexer": "ipython3",
   "version": "3.11.3"
  },
  "read_only": true
 },
 "nbformat": 4,
 "nbformat_minor": 5
}
